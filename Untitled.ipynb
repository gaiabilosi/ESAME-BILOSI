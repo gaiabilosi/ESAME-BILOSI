{
 "cells": [
  {
   "cell_type": "markdown",
   "id": "d0b7d4ba",
   "metadata": {},
   "source": [
    "# ESAME BILOSI GAIA - Esercizio Fit NFW density profile"
   ]
  },
  {
   "cell_type": "markdown",
   "id": "db11e6b1",
   "metadata": {},
   "source": [
    "# PRIMA PARTE\n",
    "Implementare la funzione per calcolare SIGMA(R,M,c,z), e mostrare in un grafico composto da 9 pannelli i profili di densità nell'intervallo R in [0.03,1.0] Mpc, per le seguenti combinazioni di valori di massa e concentrazione: M = [10^13.5,10^14,10^15]*Msole;c = [2,5,10] ; z = 0.0. (Suggerimento: usare scala logaritmica per migliorare la visualizzazione)"
   ]
  },
  {
   "cell_type": "code",
   "execution_count": null,
   "id": "5d5103d8",
   "metadata": {},
   "outputs": [],
   "source": []
  }
 ],
 "metadata": {
  "kernelspec": {
   "display_name": "Python 3 (ipykernel)",
   "language": "python",
   "name": "python3"
  },
  "language_info": {
   "codemirror_mode": {
    "name": "ipython",
    "version": 3
   },
   "file_extension": ".py",
   "mimetype": "text/x-python",
   "name": "python",
   "nbconvert_exporter": "python",
   "pygments_lexer": "ipython3",
   "version": "3.11.5"
  }
 },
 "nbformat": 4,
 "nbformat_minor": 5
}
